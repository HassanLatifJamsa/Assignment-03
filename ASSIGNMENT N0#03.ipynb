{
 "cells": [
  {
   "cell_type": "code",
   "execution_count": 2,
   "id": "5ca98990",
   "metadata": {},
   "outputs": [
    {
     "name": "stdout",
     "output_type": "stream",
     "text": [
      "Twinkle, twinkle, little star,\n",
      "         How I wonder what you are! \n",
      "                 Up above the world so high, \n",
      "                 Like a diamond in the sky. \n",
      "Twinkle, twinkle, little star, \n",
      "         How I wonder what you are\n"
     ]
    }
   ],
   "source": [
    "\"\"\"Write a Python program to print the following string in a specific format (see the\n",
    "output).\"\"\"\n",
    "x=\" \"\n",
    "print(\"Twinkle, twinkle, little star,\\n         How I wonder what you are! \\n                 Up above the world so high, \\n                 Like a diamond in the sky. \\nTwinkle, twinkle, little star, \\n         How I wonder what you are\");"
   ]
  },
  {
   "cell_type": "code",
   "execution_count": 3,
   "id": "4363c07c",
   "metadata": {},
   "outputs": [
    {
     "name": "stdout",
     "output_type": "stream",
     "text": [
      "3.8.8\n"
     ]
    }
   ],
   "source": [
    "# Write a Python program to get the Python version you are using\n",
    "from platform import python_version\n",
    "print(python_version());"
   ]
  },
  {
   "cell_type": "code",
   "execution_count": 4,
   "id": "94c3e115",
   "metadata": {},
   "outputs": [
    {
     "name": "stdout",
     "output_type": "stream",
     "text": [
      "CURRENT DATE AND TIME IS:\n",
      "24-10-21\n"
     ]
    }
   ],
   "source": [
    "# Write a Python program to display the current date and time.\n",
    "import datetime\n",
    "dt=datetime.datetime.now()\n",
    "print(\"CURRENT DATE AND TIME IS:\");\n",
    "print(dt.strftime(\"%d-%m-%y\"));"
   ]
  },
  {
   "cell_type": "code",
   "execution_count": 5,
   "id": "b78de44b",
   "metadata": {},
   "outputs": [
    {
     "name": "stdout",
     "output_type": "stream",
     "text": [
      "ENTER RADIUS OF CIRCLE: 4\n",
      "THE RADIUS OF CIRCLE IS:\n",
      "50.26548245743669\n"
     ]
    }
   ],
   "source": [
    "\"\"\"\"Write a Python program which accepts the radius of a circle from the user and compute\n",
    "the area.\"\"\"\n",
    "import math\n",
    "r=int(input(\"ENTER RADIUS OF CIRCLE: \"));\n",
    "A=math.pi*r**2;\n",
    "print(\"THE RADIUS OF CIRCLE IS:\")\n",
    "print(A);"
   ]
  },
  {
   "cell_type": "code",
   "execution_count": 7,
   "id": "8c671b20",
   "metadata": {},
   "outputs": [
    {
     "name": "stdout",
     "output_type": "stream",
     "text": [
      "ENTER YOUR FIRST NAME: HASSAN\n",
      "ENTER YOUR LAST NAME: LATIF\n",
      "LATIF HASSAN\n"
     ]
    }
   ],
   "source": [
    "\"\"\"Write a Python program which accepts the user's first and last name and print them in\n",
    "reverse order with a space between them.\"\"\"\n",
    "x=\" \"\n",
    "a=input(\"ENTER YOUR FIRST NAME: \");\n",
    "b=input(\"ENTER YOUR LAST NAME: \");\n",
    "c=b+ 1*x +a;\n",
    "print(c);"
   ]
  },
  {
   "cell_type": "code",
   "execution_count": 8,
   "id": "77dd0338",
   "metadata": {},
   "outputs": [
    {
     "name": "stdout",
     "output_type": "stream",
     "text": [
      "ENTER YOUR FIRST NO: 67\n",
      "ENTER YOUR SECOND NO: 87\n",
      "154\n"
     ]
    }
   ],
   "source": [
    "# Write a python program which takes two inputs from user and print them addition\n",
    "a=int(input(\"ENTER YOUR FIRST NO: \"));\n",
    "b=int(input(\"ENTER YOUR SECOND NO: \"));\n",
    "c=a+b;\n",
    "print(c);"
   ]
  },
  {
   "cell_type": "code",
   "execution_count": 9,
   "id": "fd1314b0",
   "metadata": {},
   "outputs": [
    {
     "name": "stdout",
     "output_type": "stream",
     "text": [
      "ENTER ENGLISH MARKS: 78\n",
      "ENTER ISI MARKS: 80\n",
      "ENTER MATHS MARKS: 100\n",
      "ENTER URDU MARKS: 78\n",
      "ENTER SCIENCE MARKS: 100\n",
      "A+\n",
      "87.2\n"
     ]
    }
   ],
   "source": [
    "\"\"\"Write a program which takes 5 inputs from user for different subject’s marks, total it\n",
    "and generate mark sheet using grades ?\"\"\"\n",
    "\n",
    "ENG=int(input(\"ENTER ENGLISH MARKS: \"));\n",
    "ISI=int(input(\"ENTER ISI MARKS: \"));\n",
    "MATHS=int(input(\"ENTER MATHS MARKS: \"));\n",
    "URDU=int(input(\"ENTER URDU MARKS: \"));\n",
    "SCIENCE=int(input(\"ENTER SCIENCE MARKS: \"));\n",
    "X=ENG+ISI+MATHS+SCIENCE+URDU;\n",
    "TOTAL_MARKS=500;\n",
    "PERCENTAGE=((X/TOTAL_MARKS)*100);\n",
    "if PERCENTAGE >= 80:\n",
    "    print(\"A+\");\n",
    "elif PERCENTAGE >= 70 and PERCENTAGE < 80:\n",
    "    print(\"A\");\n",
    "elif PERCENTAGE >= 60 and PERCENTAGE < 70:\n",
    "    print(\"B\");\n",
    "elif PERCENTAGE >= 40 and PERCENTAGE < 60:\n",
    "    print(\"C\");\n",
    "else:\n",
    "    print(\"FAIL\")\n",
    "    \n",
    "print(PERCENTAGE);"
   ]
  },
  {
   "cell_type": "code",
   "execution_count": 10,
   "id": "35ecd741",
   "metadata": {},
   "outputs": [
    {
     "name": "stdout",
     "output_type": "stream",
     "text": [
      "ENTER YOUR FIRST NO: 8\n",
      "NUMBER IS EVEN\n"
     ]
    }
   ],
   "source": [
    "\"\"\"\"Write a program which take input from user and identify that the given number is even\n",
    "or odd?\"\"\"\n",
    "# --------------------------------------------------------------------------------------------------------------------------------\n",
    "\n",
    "a=int(input(\"ENTER YOUR FIRST NO: \"));\n",
    "if a%2==0:\n",
    "    print(\"NUMBER IS EVEN\");\n",
    "    \n",
    "else:\n",
    "    \n",
    "    print(\"NUMBER IS ODD\");"
   ]
  },
  {
   "cell_type": "code",
   "execution_count": 11,
   "id": "577a305e",
   "metadata": {},
   "outputs": [
    {
     "name": "stdout",
     "output_type": "stream",
     "text": [
      "The length of the list is: 7\n"
     ]
    }
   ],
   "source": [
    "# Write a program which print the length of the list?\n",
    "a=[45,65,78,65,36,76,45];\n",
    "count=0;\n",
    "for i in a:\n",
    "    count=count+1;\n",
    "print(\"The length of the list is:\",count);"
   ]
  },
  {
   "cell_type": "code",
   "execution_count": 12,
   "id": "fb6aec3e",
   "metadata": {},
   "outputs": [
    {
     "name": "stdout",
     "output_type": "stream",
     "text": [
      "Sum of all elements in a given list is: 410\n"
     ]
    }
   ],
   "source": [
    "a=[45,65,78,65,36,76,45];\n",
    "total=0;\n",
    "for i in range(0,len(a)):\n",
    "    total=total+a[i];\n",
    "print(\"Sum of all elements in a given list is:\",total);"
   ]
  },
  {
   "cell_type": "code",
   "execution_count": 13,
   "id": "a56d7fc6",
   "metadata": {},
   "outputs": [
    {
     "name": "stdout",
     "output_type": "stream",
     "text": [
      "Largest Element: 78\n",
      "Largest Element: 78\n"
     ]
    }
   ],
   "source": [
    "# Write a Python program to get the largest number from a numeric list\n",
    "\n",
    "# First Approach\n",
    "a=[45,65,78,65,36,76,45];\n",
    "a.sort();\n",
    "print(\"Largest Element:\",a[-1]);\n",
    "\n",
    "\n",
    "\n",
    "# Second Approach\n",
    "a=[45,65,78,65,36,76,45];\n",
    "print(\"Largest Element:\",max(a));"
   ]
  },
  {
   "cell_type": "code",
   "execution_count": 14,
   "id": "c2a5071d",
   "metadata": {},
   "outputs": [
    {
     "name": "stdout",
     "output_type": "stream",
     "text": [
      "[1, 1, 2, 3]\n"
     ]
    }
   ],
   "source": [
    "\"\"\"\"Take a list, say for example this one:\n",
    "a = [1, 1, 2, 3, 5, 8, 13, 21, 34, 55, 89]\n",
    "Write a program that prints out all the elements of the list that are less than 5\"\"\"\n",
    "\n",
    "\n",
    "a = [1, 1, 2, 3, 5, 8, 13, 21, 34, 55, 89];\n",
    "list=[];\n",
    "for i in a:\n",
    "    if i<5:\n",
    "        list.append(i);\n",
    "print(list);"
   ]
  },
  {
   "cell_type": "code",
   "execution_count": null,
   "id": "bc627d66",
   "metadata": {},
   "outputs": [],
   "source": []
  }
 ],
 "metadata": {
  "kernelspec": {
   "display_name": "Python 3",
   "language": "python",
   "name": "python3"
  },
  "language_info": {
   "codemirror_mode": {
    "name": "ipython",
    "version": 3
   },
   "file_extension": ".py",
   "mimetype": "text/x-python",
   "name": "python",
   "nbconvert_exporter": "python",
   "pygments_lexer": "ipython3",
   "version": "3.8.8"
  }
 },
 "nbformat": 4,
 "nbformat_minor": 5
}
